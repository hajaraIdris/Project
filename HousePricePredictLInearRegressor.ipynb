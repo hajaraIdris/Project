{
  "nbformat": 4,
  "nbformat_minor": 0,
  "metadata": {
    "colab": {
      "provenance": [],
      "authorship_tag": "ABX9TyOKgcaQXRHILreO0tKmzdYO",
      "include_colab_link": true
    },
    "kernelspec": {
      "name": "python3",
      "display_name": "Python 3"
    },
    "language_info": {
      "name": "python"
    }
  },
  "cells": [
    {
      "cell_type": "markdown",
      "metadata": {
        "id": "view-in-github",
        "colab_type": "text"
      },
      "source": [
        "<a href=\"https://colab.research.google.com/github/hajaraIdris/Project/blob/main/HousePricePredictLInearRegressor.ipynb\" target=\"_parent\"><img src=\"https://colab.research.google.com/assets/colab-badge.svg\" alt=\"Open In Colab\"/></a>"
      ]
    },
    {
      "cell_type": "markdown",
      "source": [
        "# **House preice prediction using Linear Regression -SingleVariable****"
      ],
      "metadata": {
        "id": "0-12VVU3VTR0"
      }
    },
    {
      "cell_type": "markdown",
      "source": [
        "Day-11 House price prediction using Linear Regression - SingleVariable"
      ],
      "metadata": {
        "id": "N92uSbDDUgQ_"
      }
    },
    {
      "cell_type": "markdown",
      "source": [
        "import Libraries"
      ],
      "metadata": {
        "id": "XdpIhzKhVtel"
      }
    },
    {
      "cell_type": "code",
      "source": [
        "import pandas as pd\n",
        "import matplotlib.pyplot as plt\n",
        "from sklearn.linear_model import LinearRegression"
      ],
      "metadata": {
        "id": "9J2F3tlOVrsw"
      },
      "execution_count": null,
      "outputs": []
    },
    {
      "cell_type": "markdown",
      "source": [
        "Load Dataset from local directory"
      ],
      "metadata": {
        "id": "TEsx3BlXWfzm"
      }
    },
    {
      "cell_type": "code",
      "source": [
        "dataset=pd.read_csv('dataset.csv')"
      ],
      "metadata": {
        "id": "ec7qHSlhWs26"
      },
      "execution_count": null,
      "outputs": []
    },
    {
      "cell_type": "markdown",
      "source": [
        "Load Dataset"
      ],
      "metadata": {
        "id": "4uJmhi3GXAE3"
      }
    },
    {
      "cell_type": "code",
      "source": [
        "dataset=pd.read_csv('dataset.csv')"
      ],
      "metadata": {
        "id": "jbVBaaHJWMSX"
      },
      "execution_count": null,
      "outputs": []
    },
    {
      "cell_type": "markdown",
      "source": [
        "Load Summarize"
      ],
      "metadata": {
        "id": "DvYVAzvCXRRY"
      }
    },
    {
      "cell_type": "code",
      "source": [
        "print(dataset.shape)\n",
        "print(dataset.head(5))"
      ],
      "metadata": {
        "id": "Y21T9YuiXs3B"
      },
      "execution_count": null,
      "outputs": []
    },
    {
      "cell_type": "markdown",
      "source": [
        "Visualize Dataset"
      ],
      "metadata": {
        "id": "R5nYQdieX1mg"
      }
    },
    {
      "cell_type": "code",
      "source": [
        "plt.xlabel('Area')\n",
        "plt.ylabel('Price')\n",
        "plt.scatter(dataset.area,dataset.price,color='red', marker='*')"
      ],
      "metadata": {
        "id": "BLjbPOaiX2SY"
      },
      "execution_count": null,
      "outputs": []
    },
    {
      "cell_type": "markdown",
      "source": [
        "Segregate Dataset into input X & Output Y"
      ],
      "metadata": {
        "id": "gBoYBcKuYi7L"
      }
    },
    {
      "cell_type": "code",
      "source": [
        "x=dataset.drop('price',axis='columns')\n",
        "x"
      ],
      "metadata": {
        "id": "vJ-bv59_Y4Wt"
      },
      "execution_count": null,
      "outputs": []
    },
    {
      "cell_type": "code",
      "source": [
        "y=dataset.price\n",
        "y"
      ],
      "metadata": {
        "id": "8VUzoRD-ZG8Y"
      },
      "execution_count": null,
      "outputs": []
    },
    {
      "cell_type": "markdown",
      "source": [
        "Training Dataset using Linear Regression"
      ],
      "metadata": {
        "id": "JKa04mNuZZXh"
      }
    },
    {
      "cell_type": "code",
      "source": [
        "model=LinearRegression()\n",
        "model.fit(x,y)"
      ],
      "metadata": {
        "id": "x-yxCRf6ZmpR"
      },
      "execution_count": null,
      "outputs": []
    },
    {
      "cell_type": "markdown",
      "source": [
        "Predicted price fo land sq. feet of custom values"
      ],
      "metadata": {
        "id": "hOnHyL4xZyPy"
      }
    },
    {
      "cell_type": "code",
      "source": [
        "x=9684\n",
        "LandAreainSqFt=[[x]]\n",
        "PredictedmodelResult=model.predict(LandAreainSqFt)\n",
        "print(PredictedmodelResult)"
      ],
      "metadata": {
        "id": "dMKm_UD7aHRB"
      },
      "execution_count": null,
      "outputs": []
    },
    {
      "cell_type": "markdown",
      "source": [
        "Let's check:\"is the model is Right?\""
      ],
      "metadata": {
        "id": "RhU3aWBMaisr"
      }
    },
    {
      "cell_type": "markdown",
      "source": [
        "Theory Calculation\n",
        "Y=m*x + b(m is coeffiecent and b is intercept"
      ],
      "metadata": {
        "id": "pDq5suU0au5g"
      }
    },
    {
      "cell_type": "code",
      "source": [
        "m=model.coef_\n",
        "print(m)"
      ],
      "metadata": {
        "id": "p4EA-52Ha7oK"
      },
      "execution_count": null,
      "outputs": []
    },
    {
      "cell_type": "markdown",
      "source": [
        "intercept - b"
      ],
      "metadata": {
        "id": "Pok0NGOb_BOw"
      }
    },
    {
      "cell_type": "code",
      "source": [
        "b=model.intercept_\n",
        "print(b)"
      ],
      "metadata": {
        "id": "mTv3coKa_ENd"
      },
      "execution_count": null,
      "outputs": []
    },
    {
      "cell_type": "markdown",
      "source": [
        "Y=mx+b\n",
        "x is independent variable - input-area"
      ],
      "metadata": {
        "id": "eisMEd3O_TBw"
      }
    },
    {
      "cell_type": "code",
      "source": [
        "y=m*x+b\n",
        "print(\"the price of {0} square feet is : {1}\".format(x,y[0]))"
      ],
      "metadata": {
        "id": "G4EksYUJ_cmP"
      },
      "execution_count": null,
      "outputs": []
    }
  ]
}